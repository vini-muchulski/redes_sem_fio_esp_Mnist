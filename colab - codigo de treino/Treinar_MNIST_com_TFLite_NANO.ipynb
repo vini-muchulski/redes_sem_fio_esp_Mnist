{
  "nbformat": 4,
  "nbformat_minor": 0,
  "metadata": {
    "colab": {
      "provenance": [],
      "gpuType": "T4"
    },
    "kernelspec": {
      "name": "python3",
      "display_name": "Python 3"
    },
    "language_info": {
      "name": "python"
    },
    "accelerator": "GPU"
  },
  "cells": [
    {
      "cell_type": "markdown",
      "source": [
        "# Arquitetura CNN Simplificada para MNIST"
      ],
      "metadata": {
        "id": "YtjsuuXaeLYZ"
      }
    },
    {
      "cell_type": "code",
      "source": [
        "import tensorflow as tf\n",
        "import numpy as np\n",
        "import matplotlib.pyplot as plt\n",
        "\n",
        "# Carregamento e pré-processamento dos dados\n",
        "(x_train, y_train), (x_test, y_test) = tf.keras.datasets.mnist.load_data()\n",
        "x_train, x_test = x_train / 255.0, x_test / 255.0\n",
        "x_train = x_train[..., None].astype(\"float32\")\n",
        "x_test = x_test[..., None].astype(\"float32\")\n",
        "\n",
        "\n",
        "\n",
        "# ============================================================================\n",
        "# FUNÇÃO PARA COMPARAR MODELOS\n",
        "# ============================================================================\n",
        "def compare_models():\n",
        "    \"\"\"Compara diferentes arquiteturas\"\"\"\n",
        "    models = {\n",
        "        \"Ultra-Simples\": create_ultra_simple_model(),\n",
        "        \"Balanceado\": create_balanced_model(),\n",
        "        \"Com Dropout\": create_dropout_model()\n",
        "    }\n",
        "\n",
        "    results = {}\n",
        "\n",
        "    for name, model in models.items():\n",
        "        print(f\"\\n{'='*50}\")\n",
        "        print(f\"TESTANDO: {name}\")\n",
        "        print(f\"{'='*50}\")\n",
        "\n",
        "        model.compile(\n",
        "            optimizer=\"adam\",\n",
        "            loss=\"sparse_categorical_crossentropy\",\n",
        "            metrics=[\"accuracy\"]\n",
        "        )\n",
        "\n",
        "        # Mostra arquitetura\n",
        "        model.summary()\n",
        "\n",
        "        # Treina rapidamente\n",
        "        history = model.fit(\n",
        "            x_train, y_train,\n",
        "            epochs=3,\n",
        "            batch_size=128,\n",
        "            validation_split=0.1,\n",
        "            verbose=1\n",
        "        )\n",
        "\n",
        "        # Avalia\n",
        "        loss, acc = model.evaluate(x_test, y_test, verbose=0)\n",
        "\n",
        "        # Conta parâmetros\n",
        "        params = model.count_params()\n",
        "\n",
        "        results[name] = {\n",
        "            'accuracy': acc,\n",
        "            'parameters': params,\n",
        "            'model': model\n",
        "        }\n",
        "\n",
        "        print(f\"Acurácia: {acc:.4f}\")\n",
        "        print(f\"Parâmetros: {params:,}\")\n",
        "\n",
        "    return results\n",
        "\n",
        "\n",
        "\n",
        "\n",
        "\n",
        "\"\"\"def create_balanced_model():\n",
        "\n",
        "\n",
        "   model = tf.keras.Sequential([\n",
        "       tf.keras.layers.Input((28,28,1)),\n",
        "       tf.keras.layers.Conv2D(10, 5, activation=\"relu\", padding='same'),     # (28,28,1) -> (28,28,8)\n",
        "       tf.keras.layers.MaxPool2D(2),                                        # (28,28,8) -> (14,14,8)\n",
        "       tf.keras.layers.Conv2D(20, 3, activation=\"relu\"),                    # (14,14,8) -> (12,12,16)\n",
        "       tf.keras.layers.MaxPool2D(2),                                        # (12,12,16) -> (6,6,16)\n",
        "       tf.keras.layers.GlobalAveragePooling2D(),                            # (6,6,16) -> (16,)\n",
        "       tf.keras.layers.Dropout(0.2),\n",
        "       tf.keras.layers.Dense(10, activation=\"softmax\")\n",
        "   ])\n",
        "   return model\n",
        "\"\"\"\n",
        "\n",
        "def create_balanced_model():\n",
        "    \"\"\"\n",
        "    Modelo balanceado aprimorado:\n",
        "    - Adiciona uma segunda convolução leve para extrair mais recursos\n",
        "    - Inclui BatchNormalization para acelerar e estabilizar o treino\n",
        "    - Mantém o total de parâmetros próximo ou abaixo do original (~2 000 params)\n",
        "    \"\"\"\n",
        "    model = tf.keras.Sequential([\n",
        "        tf.keras.layers.Input((28, 28, 1)),\n",
        "        tf.keras.layers.Conv2D(8, 3, padding='same', activation='relu'),\n",
        "        tf.keras.layers.BatchNormalization(),\n",
        "        tf.keras.layers.Conv2D(8, 3, padding='same', activation='relu'),\n",
        "        tf.keras.layers.MaxPool2D(2),\n",
        "        tf.keras.layers.Conv2D(16, 3, padding='same', activation='relu'),\n",
        "        tf.keras.layers.BatchNormalization(),\n",
        "        tf.keras.layers.MaxPool2D(2),\n",
        "        tf.keras.layers.GlobalAveragePooling2D(),\n",
        "        tf.keras.layers.Dropout(0.2),\n",
        "        tf.keras.layers.Dense(10, activation='softmax')\n",
        "    ])\n",
        "    return model\n",
        "\n",
        "\n",
        "\n",
        "# ============================================================================\n",
        "#\n",
        "\n",
        "\n",
        "\n",
        "\n",
        "\n",
        "\n",
        "# ============================================================================\n",
        "# FUNÇÃO PARA CONVERTER PARA TFLITE\n",
        "# ============================================================================\n",
        "def convert_to_tflite(model, filename):\n",
        "    \"\"\"Converte modelo para TensorFlow Lite\"\"\"\n",
        "    converter = tf.lite.TFLiteConverter.from_keras_model(model)\n",
        "    converter.optimizations = [tf.lite.Optimize.DEFAULT]\n",
        "\n",
        "    # Quantização adicional para modelos ainda menores\n",
        "    converter.target_spec.supported_types = [tf.float16]\n",
        "\n",
        "    tflite_model = converter.convert()\n",
        "\n",
        "    with open(filename, \"wb\") as f:\n",
        "        f.write(tflite_model)\n",
        "\n",
        "    # Mostra tamanho do arquivo\n",
        "    import os\n",
        "    size_kb = os.path.getsize(filename) / 1024\n",
        "    print(f\"Modelo salvo em {filename} ({size_kb:.1f} KB)\")\n",
        "\n",
        "    return tflite_model"
      ],
      "metadata": {
        "id": "B5vrzsVReNGz"
      },
      "execution_count": 13,
      "outputs": []
    },
    {
      "cell_type": "code",
      "source": [
        "if __name__ == \"__main__\":\n",
        "    # Opção 1: Testar modelo específico\n",
        "    print(\"Criando modelo simples...\")\n",
        "    model = create_balanced_model()\n",
        "\n",
        "    model.compile(\n",
        "        optimizer=\"adam\",\n",
        "        loss=\"sparse_categorical_crossentropy\",\n",
        "        metrics=[\"accuracy\"]\n",
        "    )\n",
        "\n",
        "    model.summary()\n",
        "\n",
        "    # Treinar\n",
        "    model.fit(\n",
        "        x_train, y_train,\n",
        "        epochs=10,\n",
        "        batch_size=128,\n",
        "        validation_split=0.1\n",
        "    )\n",
        "\n",
        "    # Avaliar\n",
        "    loss, acc = model.evaluate(x_test, y_test, verbose=0)\n",
        "    print(f\"Acurácia final: {acc:.4f}\")\n",
        "\n",
        "    # Converter para TFLite\n",
        "    convert_to_tflite(model, \"mnist_simple.tflite\")\n",
        "    #novo"
      ],
      "metadata": {
        "id": "Q9Em7tNQeTPF",
        "colab": {
          "base_uri": "https://localhost:8080/",
          "height": 1000
        },
        "outputId": "e35ac7bf-a420-47ab-9140-36f33fab85ec"
      },
      "execution_count": 14,
      "outputs": [
        {
          "output_type": "stream",
          "name": "stdout",
          "text": [
            "Criando modelo simples...\n"
          ]
        },
        {
          "output_type": "display_data",
          "data": {
            "text/plain": [
              "\u001b[1mModel: \"sequential_6\"\u001b[0m\n"
            ],
            "text/html": [
              "<pre style=\"white-space:pre;overflow-x:auto;line-height:normal;font-family:Menlo,'DejaVu Sans Mono',consolas,'Courier New',monospace\"><span style=\"font-weight: bold\">Model: \"sequential_6\"</span>\n",
              "</pre>\n"
            ]
          },
          "metadata": {}
        },
        {
          "output_type": "display_data",
          "data": {
            "text/plain": [
              "┏━━━━━━━━━━━━━━━━━━━━━━━━━━━━━━━━━┳━━━━━━━━━━━━━━━━━━━━━━━━┳━━━━━━━━━━━━━━━┓\n",
              "┃\u001b[1m \u001b[0m\u001b[1mLayer (type)                   \u001b[0m\u001b[1m \u001b[0m┃\u001b[1m \u001b[0m\u001b[1mOutput Shape          \u001b[0m\u001b[1m \u001b[0m┃\u001b[1m \u001b[0m\u001b[1m      Param #\u001b[0m\u001b[1m \u001b[0m┃\n",
              "┡━━━━━━━━━━━━━━━━━━━━━━━━━━━━━━━━━╇━━━━━━━━━━━━━━━━━━━━━━━━╇━━━━━━━━━━━━━━━┩\n",
              "│ conv2d_10 (\u001b[38;5;33mConv2D\u001b[0m)              │ (\u001b[38;5;45mNone\u001b[0m, \u001b[38;5;34m28\u001b[0m, \u001b[38;5;34m28\u001b[0m, \u001b[38;5;34m8\u001b[0m)      │            \u001b[38;5;34m80\u001b[0m │\n",
              "├─────────────────────────────────┼────────────────────────┼───────────────┤\n",
              "│ batch_normalization_2           │ (\u001b[38;5;45mNone\u001b[0m, \u001b[38;5;34m28\u001b[0m, \u001b[38;5;34m28\u001b[0m, \u001b[38;5;34m8\u001b[0m)      │            \u001b[38;5;34m32\u001b[0m │\n",
              "│ (\u001b[38;5;33mBatchNormalization\u001b[0m)            │                        │               │\n",
              "├─────────────────────────────────┼────────────────────────┼───────────────┤\n",
              "│ conv2d_11 (\u001b[38;5;33mConv2D\u001b[0m)              │ (\u001b[38;5;45mNone\u001b[0m, \u001b[38;5;34m28\u001b[0m, \u001b[38;5;34m28\u001b[0m, \u001b[38;5;34m8\u001b[0m)      │           \u001b[38;5;34m584\u001b[0m │\n",
              "├─────────────────────────────────┼────────────────────────┼───────────────┤\n",
              "│ max_pooling2d_11 (\u001b[38;5;33mMaxPooling2D\u001b[0m) │ (\u001b[38;5;45mNone\u001b[0m, \u001b[38;5;34m14\u001b[0m, \u001b[38;5;34m14\u001b[0m, \u001b[38;5;34m8\u001b[0m)      │             \u001b[38;5;34m0\u001b[0m │\n",
              "├─────────────────────────────────┼────────────────────────┼───────────────┤\n",
              "│ conv2d_12 (\u001b[38;5;33mConv2D\u001b[0m)              │ (\u001b[38;5;45mNone\u001b[0m, \u001b[38;5;34m14\u001b[0m, \u001b[38;5;34m14\u001b[0m, \u001b[38;5;34m16\u001b[0m)     │         \u001b[38;5;34m1,168\u001b[0m │\n",
              "├─────────────────────────────────┼────────────────────────┼───────────────┤\n",
              "│ batch_normalization_3           │ (\u001b[38;5;45mNone\u001b[0m, \u001b[38;5;34m14\u001b[0m, \u001b[38;5;34m14\u001b[0m, \u001b[38;5;34m16\u001b[0m)     │            \u001b[38;5;34m64\u001b[0m │\n",
              "│ (\u001b[38;5;33mBatchNormalization\u001b[0m)            │                        │               │\n",
              "├─────────────────────────────────┼────────────────────────┼───────────────┤\n",
              "│ max_pooling2d_12 (\u001b[38;5;33mMaxPooling2D\u001b[0m) │ (\u001b[38;5;45mNone\u001b[0m, \u001b[38;5;34m7\u001b[0m, \u001b[38;5;34m7\u001b[0m, \u001b[38;5;34m16\u001b[0m)       │             \u001b[38;5;34m0\u001b[0m │\n",
              "├─────────────────────────────────┼────────────────────────┼───────────────┤\n",
              "│ global_average_pooling2d_6      │ (\u001b[38;5;45mNone\u001b[0m, \u001b[38;5;34m16\u001b[0m)             │             \u001b[38;5;34m0\u001b[0m │\n",
              "│ (\u001b[38;5;33mGlobalAveragePooling2D\u001b[0m)        │                        │               │\n",
              "├─────────────────────────────────┼────────────────────────┼───────────────┤\n",
              "│ dropout_5 (\u001b[38;5;33mDropout\u001b[0m)             │ (\u001b[38;5;45mNone\u001b[0m, \u001b[38;5;34m16\u001b[0m)             │             \u001b[38;5;34m0\u001b[0m │\n",
              "├─────────────────────────────────┼────────────────────────┼───────────────┤\n",
              "│ dense_6 (\u001b[38;5;33mDense\u001b[0m)                 │ (\u001b[38;5;45mNone\u001b[0m, \u001b[38;5;34m10\u001b[0m)             │           \u001b[38;5;34m170\u001b[0m │\n",
              "└─────────────────────────────────┴────────────────────────┴───────────────┘\n"
            ],
            "text/html": [
              "<pre style=\"white-space:pre;overflow-x:auto;line-height:normal;font-family:Menlo,'DejaVu Sans Mono',consolas,'Courier New',monospace\">┏━━━━━━━━━━━━━━━━━━━━━━━━━━━━━━━━━┳━━━━━━━━━━━━━━━━━━━━━━━━┳━━━━━━━━━━━━━━━┓\n",
              "┃<span style=\"font-weight: bold\"> Layer (type)                    </span>┃<span style=\"font-weight: bold\"> Output Shape           </span>┃<span style=\"font-weight: bold\">       Param # </span>┃\n",
              "┡━━━━━━━━━━━━━━━━━━━━━━━━━━━━━━━━━╇━━━━━━━━━━━━━━━━━━━━━━━━╇━━━━━━━━━━━━━━━┩\n",
              "│ conv2d_10 (<span style=\"color: #0087ff; text-decoration-color: #0087ff\">Conv2D</span>)              │ (<span style=\"color: #00d7ff; text-decoration-color: #00d7ff\">None</span>, <span style=\"color: #00af00; text-decoration-color: #00af00\">28</span>, <span style=\"color: #00af00; text-decoration-color: #00af00\">28</span>, <span style=\"color: #00af00; text-decoration-color: #00af00\">8</span>)      │            <span style=\"color: #00af00; text-decoration-color: #00af00\">80</span> │\n",
              "├─────────────────────────────────┼────────────────────────┼───────────────┤\n",
              "│ batch_normalization_2           │ (<span style=\"color: #00d7ff; text-decoration-color: #00d7ff\">None</span>, <span style=\"color: #00af00; text-decoration-color: #00af00\">28</span>, <span style=\"color: #00af00; text-decoration-color: #00af00\">28</span>, <span style=\"color: #00af00; text-decoration-color: #00af00\">8</span>)      │            <span style=\"color: #00af00; text-decoration-color: #00af00\">32</span> │\n",
              "│ (<span style=\"color: #0087ff; text-decoration-color: #0087ff\">BatchNormalization</span>)            │                        │               │\n",
              "├─────────────────────────────────┼────────────────────────┼───────────────┤\n",
              "│ conv2d_11 (<span style=\"color: #0087ff; text-decoration-color: #0087ff\">Conv2D</span>)              │ (<span style=\"color: #00d7ff; text-decoration-color: #00d7ff\">None</span>, <span style=\"color: #00af00; text-decoration-color: #00af00\">28</span>, <span style=\"color: #00af00; text-decoration-color: #00af00\">28</span>, <span style=\"color: #00af00; text-decoration-color: #00af00\">8</span>)      │           <span style=\"color: #00af00; text-decoration-color: #00af00\">584</span> │\n",
              "├─────────────────────────────────┼────────────────────────┼───────────────┤\n",
              "│ max_pooling2d_11 (<span style=\"color: #0087ff; text-decoration-color: #0087ff\">MaxPooling2D</span>) │ (<span style=\"color: #00d7ff; text-decoration-color: #00d7ff\">None</span>, <span style=\"color: #00af00; text-decoration-color: #00af00\">14</span>, <span style=\"color: #00af00; text-decoration-color: #00af00\">14</span>, <span style=\"color: #00af00; text-decoration-color: #00af00\">8</span>)      │             <span style=\"color: #00af00; text-decoration-color: #00af00\">0</span> │\n",
              "├─────────────────────────────────┼────────────────────────┼───────────────┤\n",
              "│ conv2d_12 (<span style=\"color: #0087ff; text-decoration-color: #0087ff\">Conv2D</span>)              │ (<span style=\"color: #00d7ff; text-decoration-color: #00d7ff\">None</span>, <span style=\"color: #00af00; text-decoration-color: #00af00\">14</span>, <span style=\"color: #00af00; text-decoration-color: #00af00\">14</span>, <span style=\"color: #00af00; text-decoration-color: #00af00\">16</span>)     │         <span style=\"color: #00af00; text-decoration-color: #00af00\">1,168</span> │\n",
              "├─────────────────────────────────┼────────────────────────┼───────────────┤\n",
              "│ batch_normalization_3           │ (<span style=\"color: #00d7ff; text-decoration-color: #00d7ff\">None</span>, <span style=\"color: #00af00; text-decoration-color: #00af00\">14</span>, <span style=\"color: #00af00; text-decoration-color: #00af00\">14</span>, <span style=\"color: #00af00; text-decoration-color: #00af00\">16</span>)     │            <span style=\"color: #00af00; text-decoration-color: #00af00\">64</span> │\n",
              "│ (<span style=\"color: #0087ff; text-decoration-color: #0087ff\">BatchNormalization</span>)            │                        │               │\n",
              "├─────────────────────────────────┼────────────────────────┼───────────────┤\n",
              "│ max_pooling2d_12 (<span style=\"color: #0087ff; text-decoration-color: #0087ff\">MaxPooling2D</span>) │ (<span style=\"color: #00d7ff; text-decoration-color: #00d7ff\">None</span>, <span style=\"color: #00af00; text-decoration-color: #00af00\">7</span>, <span style=\"color: #00af00; text-decoration-color: #00af00\">7</span>, <span style=\"color: #00af00; text-decoration-color: #00af00\">16</span>)       │             <span style=\"color: #00af00; text-decoration-color: #00af00\">0</span> │\n",
              "├─────────────────────────────────┼────────────────────────┼───────────────┤\n",
              "│ global_average_pooling2d_6      │ (<span style=\"color: #00d7ff; text-decoration-color: #00d7ff\">None</span>, <span style=\"color: #00af00; text-decoration-color: #00af00\">16</span>)             │             <span style=\"color: #00af00; text-decoration-color: #00af00\">0</span> │\n",
              "│ (<span style=\"color: #0087ff; text-decoration-color: #0087ff\">GlobalAveragePooling2D</span>)        │                        │               │\n",
              "├─────────────────────────────────┼────────────────────────┼───────────────┤\n",
              "│ dropout_5 (<span style=\"color: #0087ff; text-decoration-color: #0087ff\">Dropout</span>)             │ (<span style=\"color: #00d7ff; text-decoration-color: #00d7ff\">None</span>, <span style=\"color: #00af00; text-decoration-color: #00af00\">16</span>)             │             <span style=\"color: #00af00; text-decoration-color: #00af00\">0</span> │\n",
              "├─────────────────────────────────┼────────────────────────┼───────────────┤\n",
              "│ dense_6 (<span style=\"color: #0087ff; text-decoration-color: #0087ff\">Dense</span>)                 │ (<span style=\"color: #00d7ff; text-decoration-color: #00d7ff\">None</span>, <span style=\"color: #00af00; text-decoration-color: #00af00\">10</span>)             │           <span style=\"color: #00af00; text-decoration-color: #00af00\">170</span> │\n",
              "└─────────────────────────────────┴────────────────────────┴───────────────┘\n",
              "</pre>\n"
            ]
          },
          "metadata": {}
        },
        {
          "output_type": "display_data",
          "data": {
            "text/plain": [
              "\u001b[1m Total params: \u001b[0m\u001b[38;5;34m2,098\u001b[0m (8.20 KB)\n"
            ],
            "text/html": [
              "<pre style=\"white-space:pre;overflow-x:auto;line-height:normal;font-family:Menlo,'DejaVu Sans Mono',consolas,'Courier New',monospace\"><span style=\"font-weight: bold\"> Total params: </span><span style=\"color: #00af00; text-decoration-color: #00af00\">2,098</span> (8.20 KB)\n",
              "</pre>\n"
            ]
          },
          "metadata": {}
        },
        {
          "output_type": "display_data",
          "data": {
            "text/plain": [
              "\u001b[1m Trainable params: \u001b[0m\u001b[38;5;34m2,050\u001b[0m (8.01 KB)\n"
            ],
            "text/html": [
              "<pre style=\"white-space:pre;overflow-x:auto;line-height:normal;font-family:Menlo,'DejaVu Sans Mono',consolas,'Courier New',monospace\"><span style=\"font-weight: bold\"> Trainable params: </span><span style=\"color: #00af00; text-decoration-color: #00af00\">2,050</span> (8.01 KB)\n",
              "</pre>\n"
            ]
          },
          "metadata": {}
        },
        {
          "output_type": "display_data",
          "data": {
            "text/plain": [
              "\u001b[1m Non-trainable params: \u001b[0m\u001b[38;5;34m48\u001b[0m (192.00 B)\n"
            ],
            "text/html": [
              "<pre style=\"white-space:pre;overflow-x:auto;line-height:normal;font-family:Menlo,'DejaVu Sans Mono',consolas,'Courier New',monospace\"><span style=\"font-weight: bold\"> Non-trainable params: </span><span style=\"color: #00af00; text-decoration-color: #00af00\">48</span> (192.00 B)\n",
              "</pre>\n"
            ]
          },
          "metadata": {}
        },
        {
          "output_type": "stream",
          "name": "stdout",
          "text": [
            "Epoch 1/10\n",
            "\u001b[1m422/422\u001b[0m \u001b[32m━━━━━━━━━━━━━━━━━━━━\u001b[0m\u001b[37m\u001b[0m \u001b[1m10s\u001b[0m 13ms/step - accuracy: 0.3251 - loss: 1.9869 - val_accuracy: 0.3862 - val_loss: 1.7057\n",
            "Epoch 2/10\n",
            "\u001b[1m422/422\u001b[0m \u001b[32m━━━━━━━━━━━━━━━━━━━━\u001b[0m\u001b[37m\u001b[0m \u001b[1m2s\u001b[0m 4ms/step - accuracy: 0.8133 - loss: 0.8647 - val_accuracy: 0.9052 - val_loss: 0.4582\n",
            "Epoch 3/10\n",
            "\u001b[1m422/422\u001b[0m \u001b[32m━━━━━━━━━━━━━━━━━━━━\u001b[0m\u001b[37m\u001b[0m \u001b[1m2s\u001b[0m 4ms/step - accuracy: 0.8836 - loss: 0.4897 - val_accuracy: 0.9230 - val_loss: 0.3386\n",
            "Epoch 4/10\n",
            "\u001b[1m422/422\u001b[0m \u001b[32m━━━━━━━━━━━━━━━━━━━━\u001b[0m\u001b[37m\u001b[0m \u001b[1m2s\u001b[0m 4ms/step - accuracy: 0.9079 - loss: 0.3572 - val_accuracy: 0.9447 - val_loss: 0.2378\n",
            "Epoch 5/10\n",
            "\u001b[1m422/422\u001b[0m \u001b[32m━━━━━━━━━━━━━━━━━━━━\u001b[0m\u001b[37m\u001b[0m \u001b[1m2s\u001b[0m 4ms/step - accuracy: 0.9185 - loss: 0.2986 - val_accuracy: 0.9480 - val_loss: 0.1929\n",
            "Epoch 6/10\n",
            "\u001b[1m422/422\u001b[0m \u001b[32m━━━━━━━━━━━━━━━━━━━━\u001b[0m\u001b[37m\u001b[0m \u001b[1m4s\u001b[0m 9ms/step - accuracy: 0.9271 - loss: 0.2594 - val_accuracy: 0.9565 - val_loss: 0.1635\n",
            "Epoch 7/10\n",
            "\u001b[1m422/422\u001b[0m \u001b[32m━━━━━━━━━━━━━━━━━━━━\u001b[0m\u001b[37m\u001b[0m \u001b[1m4s\u001b[0m 8ms/step - accuracy: 0.9307 - loss: 0.2356 - val_accuracy: 0.9602 - val_loss: 0.1460\n",
            "Epoch 8/10\n",
            "\u001b[1m422/422\u001b[0m \u001b[32m━━━━━━━━━━━━━━━━━━━━\u001b[0m\u001b[37m\u001b[0m \u001b[1m3s\u001b[0m 7ms/step - accuracy: 0.9329 - loss: 0.2274 - val_accuracy: 0.9475 - val_loss: 0.1737\n",
            "Epoch 9/10\n",
            "\u001b[1m422/422\u001b[0m \u001b[32m━━━━━━━━━━━━━━━━━━━━\u001b[0m\u001b[37m\u001b[0m \u001b[1m2s\u001b[0m 4ms/step - accuracy: 0.9357 - loss: 0.2161 - val_accuracy: 0.9642 - val_loss: 0.1281\n",
            "Epoch 10/10\n",
            "\u001b[1m422/422\u001b[0m \u001b[32m━━━━━━━━━━━━━━━━━━━━\u001b[0m\u001b[37m\u001b[0m \u001b[1m3s\u001b[0m 4ms/step - accuracy: 0.9400 - loss: 0.2022 - val_accuracy: 0.9525 - val_loss: 0.1560\n",
            "Acurácia final: 0.9457\n",
            "Saved artifact at '/tmp/tmpgk1c_lsv'. The following endpoints are available:\n",
            "\n",
            "* Endpoint 'serve'\n",
            "  args_0 (POSITIONAL_ONLY): TensorSpec(shape=(None, 28, 28, 1), dtype=tf.float32, name='keras_tensor_50')\n",
            "Output Type:\n",
            "  TensorSpec(shape=(None, 10), dtype=tf.float32, name=None)\n",
            "Captures:\n",
            "  133762970269264: TensorSpec(shape=(), dtype=tf.resource, name=None)\n",
            "  133762966258704: TensorSpec(shape=(), dtype=tf.resource, name=None)\n",
            "  133762966269264: TensorSpec(shape=(), dtype=tf.resource, name=None)\n",
            "  133762966268112: TensorSpec(shape=(), dtype=tf.resource, name=None)\n",
            "  133762966258128: TensorSpec(shape=(), dtype=tf.resource, name=None)\n",
            "  133762966264656: TensorSpec(shape=(), dtype=tf.resource, name=None)\n",
            "  133762966267344: TensorSpec(shape=(), dtype=tf.resource, name=None)\n",
            "  133762966257744: TensorSpec(shape=(), dtype=tf.resource, name=None)\n",
            "  133762966267536: TensorSpec(shape=(), dtype=tf.resource, name=None)\n",
            "  133762966266768: TensorSpec(shape=(), dtype=tf.resource, name=None)\n",
            "  133762966266000: TensorSpec(shape=(), dtype=tf.resource, name=None)\n",
            "  133762966261776: TensorSpec(shape=(), dtype=tf.resource, name=None)\n",
            "  133762966264080: TensorSpec(shape=(), dtype=tf.resource, name=None)\n",
            "  133762966266576: TensorSpec(shape=(), dtype=tf.resource, name=None)\n",
            "  133762966269456: TensorSpec(shape=(), dtype=tf.resource, name=None)\n",
            "  133762966270032: TensorSpec(shape=(), dtype=tf.resource, name=None)\n",
            "Modelo salvo em mnist_simple.tflite (10.0 KB)\n"
          ]
        }
      ]
    },
    {
      "cell_type": "code",
      "source": [
        "# ============================================================================\n",
        "# EXEMPLO DE USO\n",
        "# ============================================================================\n",
        "if __name__ == \"__main__\":\n",
        "    # Opção 1: Testar modelo específico\n",
        "    print(\"Criando modelo simples...\")\n",
        "    model = create_balanced_model()\n",
        "\n",
        "    model.compile(\n",
        "        optimizer=\"adam\",\n",
        "        loss=\"sparse_categorical_crossentropy\",\n",
        "        metrics=[\"accuracy\"]\n",
        "    )\n",
        "\n",
        "    model.summary()\n",
        "\n",
        "    # Treinar\n",
        "    model.fit(\n",
        "        x_train, y_train,\n",
        "        epochs=5,\n",
        "        batch_size=128,\n",
        "        validation_split=0.1\n",
        "    )\n",
        "\n",
        "    # Avaliar\n",
        "    loss, acc = model.evaluate(x_test, y_test, verbose=0)\n",
        "    print(f\"Acurácia final: {acc:.4f}\")\n",
        "\n",
        "    # Converter para TFLite\n",
        "    convert_to_tflite(model, \"mnist_simple.tflite\")\n",
        "\n",
        ""
      ],
      "metadata": {
        "colab": {
          "base_uri": "https://localhost:8080/",
          "height": 768
        },
        "id": "59CX293qeSnk",
        "outputId": "d4454ecb-9250-49cc-bb35-8dd683079020"
      },
      "execution_count": null,
      "outputs": [
        {
          "output_type": "stream",
          "name": "stdout",
          "text": [
            "Criando modelo simples...\n"
          ]
        },
        {
          "output_type": "display_data",
          "data": {
            "text/plain": [
              "\u001b[1mModel: \"sequential_3\"\u001b[0m\n"
            ],
            "text/html": [
              "<pre style=\"white-space:pre;overflow-x:auto;line-height:normal;font-family:Menlo,'DejaVu Sans Mono',consolas,'Courier New',monospace\"><span style=\"font-weight: bold\">Model: \"sequential_3\"</span>\n",
              "</pre>\n"
            ]
          },
          "metadata": {}
        },
        {
          "output_type": "display_data",
          "data": {
            "text/plain": [
              "┏━━━━━━━━━━━━━━━━━━━━━━━━━━━━━━━━━┳━━━━━━━━━━━━━━━━━━━━━━━━┳━━━━━━━━━━━━━━━┓\n",
              "┃\u001b[1m \u001b[0m\u001b[1mLayer (type)                   \u001b[0m\u001b[1m \u001b[0m┃\u001b[1m \u001b[0m\u001b[1mOutput Shape          \u001b[0m\u001b[1m \u001b[0m┃\u001b[1m \u001b[0m\u001b[1m      Param #\u001b[0m\u001b[1m \u001b[0m┃\n",
              "┡━━━━━━━━━━━━━━━━━━━━━━━━━━━━━━━━━╇━━━━━━━━━━━━━━━━━━━━━━━━╇━━━━━━━━━━━━━━━┩\n",
              "│ conv2d_5 (\u001b[38;5;33mConv2D\u001b[0m)               │ (\u001b[38;5;45mNone\u001b[0m, \u001b[38;5;34m24\u001b[0m, \u001b[38;5;34m24\u001b[0m, \u001b[38;5;34m6\u001b[0m)      │           \u001b[38;5;34m156\u001b[0m │\n",
              "├─────────────────────────────────┼────────────────────────┼───────────────┤\n",
              "│ max_pooling2d_2 (\u001b[38;5;33mMaxPooling2D\u001b[0m)  │ (\u001b[38;5;45mNone\u001b[0m, \u001b[38;5;34m12\u001b[0m, \u001b[38;5;34m12\u001b[0m, \u001b[38;5;34m6\u001b[0m)      │             \u001b[38;5;34m0\u001b[0m │\n",
              "├─────────────────────────────────┼────────────────────────┼───────────────┤\n",
              "│ conv2d_6 (\u001b[38;5;33mConv2D\u001b[0m)               │ (\u001b[38;5;45mNone\u001b[0m, \u001b[38;5;34m8\u001b[0m, \u001b[38;5;34m8\u001b[0m, \u001b[38;5;34m12\u001b[0m)       │         \u001b[38;5;34m1,812\u001b[0m │\n",
              "├─────────────────────────────────┼────────────────────────┼───────────────┤\n",
              "│ global_average_pooling2d_3      │ (\u001b[38;5;45mNone\u001b[0m, \u001b[38;5;34m12\u001b[0m)             │             \u001b[38;5;34m0\u001b[0m │\n",
              "│ (\u001b[38;5;33mGlobalAveragePooling2D\u001b[0m)        │                        │               │\n",
              "├─────────────────────────────────┼────────────────────────┼───────────────┤\n",
              "│ dense_3 (\u001b[38;5;33mDense\u001b[0m)                 │ (\u001b[38;5;45mNone\u001b[0m, \u001b[38;5;34m10\u001b[0m)             │           \u001b[38;5;34m130\u001b[0m │\n",
              "└─────────────────────────────────┴────────────────────────┴───────────────┘\n"
            ],
            "text/html": [
              "<pre style=\"white-space:pre;overflow-x:auto;line-height:normal;font-family:Menlo,'DejaVu Sans Mono',consolas,'Courier New',monospace\">┏━━━━━━━━━━━━━━━━━━━━━━━━━━━━━━━━━┳━━━━━━━━━━━━━━━━━━━━━━━━┳━━━━━━━━━━━━━━━┓\n",
              "┃<span style=\"font-weight: bold\"> Layer (type)                    </span>┃<span style=\"font-weight: bold\"> Output Shape           </span>┃<span style=\"font-weight: bold\">       Param # </span>┃\n",
              "┡━━━━━━━━━━━━━━━━━━━━━━━━━━━━━━━━━╇━━━━━━━━━━━━━━━━━━━━━━━━╇━━━━━━━━━━━━━━━┩\n",
              "│ conv2d_5 (<span style=\"color: #0087ff; text-decoration-color: #0087ff\">Conv2D</span>)               │ (<span style=\"color: #00d7ff; text-decoration-color: #00d7ff\">None</span>, <span style=\"color: #00af00; text-decoration-color: #00af00\">24</span>, <span style=\"color: #00af00; text-decoration-color: #00af00\">24</span>, <span style=\"color: #00af00; text-decoration-color: #00af00\">6</span>)      │           <span style=\"color: #00af00; text-decoration-color: #00af00\">156</span> │\n",
              "├─────────────────────────────────┼────────────────────────┼───────────────┤\n",
              "│ max_pooling2d_2 (<span style=\"color: #0087ff; text-decoration-color: #0087ff\">MaxPooling2D</span>)  │ (<span style=\"color: #00d7ff; text-decoration-color: #00d7ff\">None</span>, <span style=\"color: #00af00; text-decoration-color: #00af00\">12</span>, <span style=\"color: #00af00; text-decoration-color: #00af00\">12</span>, <span style=\"color: #00af00; text-decoration-color: #00af00\">6</span>)      │             <span style=\"color: #00af00; text-decoration-color: #00af00\">0</span> │\n",
              "├─────────────────────────────────┼────────────────────────┼───────────────┤\n",
              "│ conv2d_6 (<span style=\"color: #0087ff; text-decoration-color: #0087ff\">Conv2D</span>)               │ (<span style=\"color: #00d7ff; text-decoration-color: #00d7ff\">None</span>, <span style=\"color: #00af00; text-decoration-color: #00af00\">8</span>, <span style=\"color: #00af00; text-decoration-color: #00af00\">8</span>, <span style=\"color: #00af00; text-decoration-color: #00af00\">12</span>)       │         <span style=\"color: #00af00; text-decoration-color: #00af00\">1,812</span> │\n",
              "├─────────────────────────────────┼────────────────────────┼───────────────┤\n",
              "│ global_average_pooling2d_3      │ (<span style=\"color: #00d7ff; text-decoration-color: #00d7ff\">None</span>, <span style=\"color: #00af00; text-decoration-color: #00af00\">12</span>)             │             <span style=\"color: #00af00; text-decoration-color: #00af00\">0</span> │\n",
              "│ (<span style=\"color: #0087ff; text-decoration-color: #0087ff\">GlobalAveragePooling2D</span>)        │                        │               │\n",
              "├─────────────────────────────────┼────────────────────────┼───────────────┤\n",
              "│ dense_3 (<span style=\"color: #0087ff; text-decoration-color: #0087ff\">Dense</span>)                 │ (<span style=\"color: #00d7ff; text-decoration-color: #00d7ff\">None</span>, <span style=\"color: #00af00; text-decoration-color: #00af00\">10</span>)             │           <span style=\"color: #00af00; text-decoration-color: #00af00\">130</span> │\n",
              "└─────────────────────────────────┴────────────────────────┴───────────────┘\n",
              "</pre>\n"
            ]
          },
          "metadata": {}
        },
        {
          "output_type": "display_data",
          "data": {
            "text/plain": [
              "\u001b[1m Total params: \u001b[0m\u001b[38;5;34m2,098\u001b[0m (8.20 KB)\n"
            ],
            "text/html": [
              "<pre style=\"white-space:pre;overflow-x:auto;line-height:normal;font-family:Menlo,'DejaVu Sans Mono',consolas,'Courier New',monospace\"><span style=\"font-weight: bold\"> Total params: </span><span style=\"color: #00af00; text-decoration-color: #00af00\">2,098</span> (8.20 KB)\n",
              "</pre>\n"
            ]
          },
          "metadata": {}
        },
        {
          "output_type": "display_data",
          "data": {
            "text/plain": [
              "\u001b[1m Trainable params: \u001b[0m\u001b[38;5;34m2,098\u001b[0m (8.20 KB)\n"
            ],
            "text/html": [
              "<pre style=\"white-space:pre;overflow-x:auto;line-height:normal;font-family:Menlo,'DejaVu Sans Mono',consolas,'Courier New',monospace\"><span style=\"font-weight: bold\"> Trainable params: </span><span style=\"color: #00af00; text-decoration-color: #00af00\">2,098</span> (8.20 KB)\n",
              "</pre>\n"
            ]
          },
          "metadata": {}
        },
        {
          "output_type": "display_data",
          "data": {
            "text/plain": [
              "\u001b[1m Non-trainable params: \u001b[0m\u001b[38;5;34m0\u001b[0m (0.00 B)\n"
            ],
            "text/html": [
              "<pre style=\"white-space:pre;overflow-x:auto;line-height:normal;font-family:Menlo,'DejaVu Sans Mono',consolas,'Courier New',monospace\"><span style=\"font-weight: bold\"> Non-trainable params: </span><span style=\"color: #00af00; text-decoration-color: #00af00\">0</span> (0.00 B)\n",
              "</pre>\n"
            ]
          },
          "metadata": {}
        },
        {
          "output_type": "stream",
          "name": "stdout",
          "text": [
            "Epoch 1/5\n",
            "\u001b[1m422/422\u001b[0m \u001b[32m━━━━━━━━━━━━━━━━━━━━\u001b[0m\u001b[37m\u001b[0m \u001b[1m4s\u001b[0m 6ms/step - accuracy: 0.3059 - loss: 2.0060 - val_accuracy: 0.7450 - val_loss: 0.8666\n",
            "Epoch 2/5\n",
            "\u001b[1m422/422\u001b[0m \u001b[32m━━━━━━━━━━━━━━━━━━━━\u001b[0m\u001b[37m\u001b[0m \u001b[1m3s\u001b[0m 3ms/step - accuracy: 0.7698 - loss: 0.7981 - val_accuracy: 0.8578 - val_loss: 0.5208\n",
            "Epoch 3/5\n",
            "\u001b[1m422/422\u001b[0m \u001b[32m━━━━━━━━━━━━━━━━━━━━\u001b[0m\u001b[37m\u001b[0m \u001b[1m3s\u001b[0m 3ms/step - accuracy: 0.8408 - loss: 0.5424 - val_accuracy: 0.8822 - val_loss: 0.4109\n",
            "Epoch 4/5\n",
            "\u001b[1m422/422\u001b[0m \u001b[32m━━━━━━━━━━━━━━━━━━━━\u001b[0m\u001b[37m\u001b[0m \u001b[1m2s\u001b[0m 4ms/step - accuracy: 0.8706 - loss: 0.4412 - val_accuracy: 0.9060 - val_loss: 0.3474\n",
            "Epoch 5/5\n",
            "\u001b[1m422/422\u001b[0m \u001b[32m━━━━━━━━━━━━━━━━━━━━\u001b[0m\u001b[37m\u001b[0m \u001b[1m2s\u001b[0m 3ms/step - accuracy: 0.8874 - loss: 0.3824 - val_accuracy: 0.9078 - val_loss: 0.3213\n",
            "Acurácia final: 0.8992\n",
            "Saved artifact at '/tmp/tmpexv2eexk'. The following endpoints are available:\n",
            "\n",
            "* Endpoint 'serve'\n",
            "  args_0 (POSITIONAL_ONLY): TensorSpec(shape=(None, 28, 28, 1), dtype=tf.float32, name='keras_tensor_17')\n",
            "Output Type:\n",
            "  TensorSpec(shape=(None, 10), dtype=tf.float32, name=None)\n",
            "Captures:\n",
            "  137731809556816: TensorSpec(shape=(), dtype=tf.resource, name=None)\n",
            "  137731809558160: TensorSpec(shape=(), dtype=tf.resource, name=None)\n",
            "  137731809544720: TensorSpec(shape=(), dtype=tf.resource, name=None)\n",
            "  137731809558352: TensorSpec(shape=(), dtype=tf.resource, name=None)\n",
            "  137731809551440: TensorSpec(shape=(), dtype=tf.resource, name=None)\n",
            "  137731809550096: TensorSpec(shape=(), dtype=tf.resource, name=None)\n",
            "Modelo salvo em mnist_simple.tflite (7.6 KB)\n"
          ]
        }
      ]
    },
    {
      "cell_type": "markdown",
      "source": [
        "# Q8"
      ],
      "metadata": {
        "id": "l4vPnaYLiD5N"
      }
    },
    {
      "cell_type": "code",
      "source": [
        "\n",
        "\n",
        "def convert_to_tflite_quantized(keras_model, representative_data, filename=\"mnist_cnn_small_int8.tflite\"):\n",
        "    \"\"\"\n",
        "    Converte um modelo Keras para TensorFlow Lite com quantização completa de inteiros (INT8).\n",
        "\n",
        "    Args:\n",
        "        keras_model: O modelo Keras treinado.\n",
        "        representative_data: Um subconjunto de dados de entrada (ex: 100-200 amostras do x_train)\n",
        "                             para calibrar a quantização. Deve ter o mesmo formato e tipo (float32)\n",
        "                             da entrada do modelo original.\n",
        "        filename: O nome do arquivo .tflite a ser salvo.\n",
        "    \"\"\"\n",
        "    print(\"Iniciando a conversão para TFLite com quantização completa de inteiros...\")\n",
        "\n",
        "    # 1. Função geradora para o conjunto de dados representativo\n",
        "    def representative_dataset_gen():\n",
        "        for i in range(len(representative_data)):\n",
        "            # O formato deve ser uma lista de tensores de entrada\n",
        "            yield [representative_data[i:i+1]]\n",
        "\n",
        "    # 2. Crie o conversor a partir do modelo Keras\n",
        "    converter = tf.lite.TFLiteConverter.from_keras_model(keras_model)\n",
        "\n",
        "    # 3. Defina as otimizações e configurações de quantização\n",
        "    converter.optimizations = [tf.lite.Optimize.DEFAULT]\n",
        "    converter.representative_dataset = representative_dataset_gen\n",
        "\n",
        "    # 4. (MAIS IMPORTANTE) Força a quantização de inteiros para todas as operações.\n",
        "    # Isso evita o erro de \"modelo híbrido\" no ESP32.\n",
        "    converter.target_spec.supported_ops = [tf.lite.OpsSet.TFLITE_BUILTINS_INT8]\n",
        "\n",
        "    # 5. Define os tipos de tensores de entrada e saída como inteiros de 8 bits\n",
        "    converter.inference_input_type = tf.int8  # Entrada agora é int8\n",
        "    converter.inference_output_type = tf.int8 # Saída agora é int8\n",
        "\n",
        "    # 6. Realiza a conversão\n",
        "    tflite_quant_model = converter.convert()\n",
        "\n",
        "    # 7. Salva o modelo no arquivo\n",
        "    with open(filename, \"wb\") as f:\n",
        "        f.write(tflite_quant_model)\n",
        "\n",
        "    print(f\"✅ Modelo quantizado (INT8) salvo com sucesso em: {filename}\")\n",
        "    return tflite_quant_model\n",
        "\n",
        "# --- COMO USAR A FUNÇÃO ---\n",
        "\n",
        "# 1. Prepare o conjunto de dados representativo (um pequeno subconjunto é suficiente)\n",
        "# Use os dados de treino normalizados (float32) que você já tem.\n",
        "representative_data = x_train[:200]\n",
        "\n",
        "# 2. Chame a função para converter e salvar o modelo quantizado\n",
        "# O modelo 'model' deve estar treinado neste ponto.\n",
        "quantized_tflite_model = convert_to_tflite_quantized(model, representative_data)\n",
        "\n",
        "\n",
        "# --- (OPCIONAL, MAS RECOMENDADO) Verificando a inferência com o modelo quantizado ---\n",
        "print(\"\\nVerificando a inferência com o modelo INT8...\")\n",
        "\n",
        "# Índice da imagem no batch de teste\n",
        "index = 4\n",
        "\n",
        "# Prepara o sample (float32) e recupera o rótulo verdadeiro\n",
        "sample_float = x_test[index : index+1]  # shape (1, 28, 28, 1), tipo float32\n",
        "true_label = y_test[index]\n",
        "print(f\"Classe verdadeira: {true_label}\")\n",
        "\n",
        "# Carrega o novo modelo quantizado\n",
        "interpreter = tf.lite.Interpreter(model_content=quantized_tflite_model)\n",
        "interpreter.allocate_tensors()\n",
        "\n",
        "# Obtém os detalhes de entrada e saída\n",
        "input_details = interpreter.get_input_details()[0]\n",
        "output_details = interpreter.get_output_details()[0]\n",
        "\n",
        "# Quantiza a entrada (float32 -> int8), simulando o que o C++ faz\n",
        "input_scale, input_zero_point = input_details[\"quantization\"]\n",
        "sample_quantized = (sample_float / input_scale + input_zero_point).astype(input_details[\"dtype\"])\n",
        "\n",
        "# Faz a inferência\n",
        "interpreter.set_tensor(input_details[\"index\"], sample_quantized)\n",
        "interpreter.invoke()\n",
        "\n",
        "# Obtém a saída bruta (int8)\n",
        "pred_quantized = interpreter.get_tensor(output_details[\"index\"])\n",
        "\n",
        "# Desquantiza a saída (int8 -> float32) para interpretar os scores\n",
        "output_scale, output_zero_point = output_details[\"quantization\"]\n",
        "pred_float = (pred_quantized.astype(np.float32) - output_zero_point) * output_scale\n",
        "\n",
        "print(f\"Dígito previsto (INT8): {np.argmax(pred_float)}\")\n",
        "print(\"Verificação concluída.\")\n",
        "\n",
        "\n",
        "# --- (OPCIONAL) Código para gerar o array C++ da imagem de teste ---\n",
        "# Este código pode ser usado para gerar o array 'mnist_sample' do seu C++\n",
        "# para garantir que você está testando a mesma imagem no Python e no ESP32.\n",
        "# ... (seu código para gerar o array C++ continua o mesmo) ...\n"
      ],
      "metadata": {
        "id": "FQqEeWLHiFXs",
        "outputId": "19f38ae2-65a2-4577-e270-f5ea34f8fec6",
        "colab": {
          "base_uri": "https://localhost:8080/"
        }
      },
      "execution_count": 17,
      "outputs": [
        {
          "output_type": "stream",
          "name": "stdout",
          "text": [
            "Iniciando a conversão para TFLite com quantização completa de inteiros...\n",
            "Saved artifact at '/tmp/tmp1zz9acdq'. The following endpoints are available:\n",
            "\n",
            "* Endpoint 'serve'\n",
            "  args_0 (POSITIONAL_ONLY): TensorSpec(shape=(None, 28, 28, 1), dtype=tf.float32, name='keras_tensor_50')\n",
            "Output Type:\n",
            "  TensorSpec(shape=(None, 10), dtype=tf.float32, name=None)\n",
            "Captures:\n",
            "  133762970269264: TensorSpec(shape=(), dtype=tf.resource, name=None)\n",
            "  133762966258704: TensorSpec(shape=(), dtype=tf.resource, name=None)\n",
            "  133762966269264: TensorSpec(shape=(), dtype=tf.resource, name=None)\n",
            "  133762966268112: TensorSpec(shape=(), dtype=tf.resource, name=None)\n",
            "  133762966258128: TensorSpec(shape=(), dtype=tf.resource, name=None)\n",
            "  133762966264656: TensorSpec(shape=(), dtype=tf.resource, name=None)\n",
            "  133762966267344: TensorSpec(shape=(), dtype=tf.resource, name=None)\n",
            "  133762966257744: TensorSpec(shape=(), dtype=tf.resource, name=None)\n",
            "  133762966267536: TensorSpec(shape=(), dtype=tf.resource, name=None)\n",
            "  133762966266768: TensorSpec(shape=(), dtype=tf.resource, name=None)\n",
            "  133762966266000: TensorSpec(shape=(), dtype=tf.resource, name=None)\n",
            "  133762966261776: TensorSpec(shape=(), dtype=tf.resource, name=None)\n",
            "  133762966264080: TensorSpec(shape=(), dtype=tf.resource, name=None)\n",
            "  133762966266576: TensorSpec(shape=(), dtype=tf.resource, name=None)\n",
            "  133762966269456: TensorSpec(shape=(), dtype=tf.resource, name=None)\n",
            "  133762966270032: TensorSpec(shape=(), dtype=tf.resource, name=None)\n",
            "✅ Modelo quantizado (INT8) salvo com sucesso em: mnist_cnn_small_int8.tflite\n",
            "\n",
            "Verificando a inferência com o modelo INT8...\n",
            "Classe verdadeira: 4\n",
            "Dígito previsto (INT8): 4\n",
            "Verificação concluída.\n"
          ]
        },
        {
          "output_type": "stream",
          "name": "stderr",
          "text": [
            "/usr/local/lib/python3.11/dist-packages/tensorflow/lite/python/convert.py:997: UserWarning: Statistics for quantized inputs were expected, but not specified; continuing anyway.\n",
            "  warnings.warn(\n"
          ]
        }
      ]
    },
    {
      "cell_type": "code",
      "source": [
        "import numpy as np\n",
        "from tensorflow.keras.datasets import mnist\n",
        "import matplotlib.pyplot as plt\n",
        "\n",
        "# 1. Carrega MNIST\n",
        "(_, _), (x_test, y_test) = mnist.load_data()\n",
        "\n",
        "# 2. Seleciona a imagem e o rótulo\n",
        "idx = 10\n",
        "\n",
        "\n",
        "\n",
        "# 2. Recupera a imagem e o rótulo\n",
        "img = x_test[idx].squeeze()      # squeeze() transforma (28,28,1) em (28,28)\n",
        "label = y_test[idx]\n",
        "\n",
        "# 3. Plota\n",
        "plt.figure(figsize=(4,4))\n",
        "plt.imshow(img, cmap='gray')\n",
        "plt.title(f\"Rótulo: {label}\")\n",
        "plt.axis('off')\n",
        "plt.show()\n",
        "\n",
        "\n",
        "\n",
        "img = x_test[idx]\n",
        "label = y_test[idx]\n",
        "print(f\"Classe verdadeira: {label}\")\n",
        "\n",
        "\n",
        "\n",
        "# 3. Achata e imprime os pixels no formato C\n",
        "flat = img.flatten().astype(int)\n",
        "lines = []\n",
        "for i in range(0, len(flat), 16):\n",
        "    chunk = flat[i:i+16]\n",
        "    line = \", \".join(f\"{p}\" for p in chunk)\n",
        "    lines.append(\"  \" + line)\n",
        "print(\"uint8_t mnist_sample[28*28] = {\")\n",
        "print(\",\\n\".join(lines))\n",
        "print(\"};\")\n"
      ],
      "metadata": {
        "colab": {
          "base_uri": "https://localhost:8080/"
        },
        "id": "I-YRtlbcV2nH",
        "outputId": "40882ee1-4494-44c5-d3df-b7630c026a31"
      },
      "execution_count": null,
      "outputs": [
        {
          "output_type": "display_data",
          "data": {
            "text/plain": [
              "<Figure size 400x400 with 1 Axes>"
            ],
            "image/png": "[encoded data removed]"
          },
          "metadata": {}
        },
        {
          "output_type": "stream",
          "name": "stdout",
          "text": [
            "Classe verdadeira: 1\n",
            "uint8_t mnist_sample[28*28] = {\n",
            "  0, 0, 0, 0, 0, 0, 0, 0, 0, 0, 0, 0, 0, 0, 0, 0,\n",
            "  0, 0, 0, 0, 0, 0, 0, 0, 0, 0, 0, 0, 0, 0, 0, 0,\n",
            "  0, 0, 0, 0, 0, 0, 0, 0, 0, 0, 0, 0, 0, 0, 0, 0,\n",
            "  0, 0, 0, 0, 0, 0, 0, 0, 0, 0, 0, 0, 0, 0, 0, 0,\n",
            "  0, 0, 0, 0, 0, 0, 0, 0, 0, 0, 0, 0, 0, 0, 0, 0,\n",
            "  0, 0, 0, 0, 0, 0, 0, 0, 0, 0, 0, 0, 0, 0, 0, 0,\n",
            "  0, 0, 0, 0, 0, 0, 0, 0, 0, 0, 0, 0, 0, 0, 0, 0,\n",
            "  0, 0, 0, 0, 0, 0, 0, 0, 0, 0, 0, 0, 0, 0, 0, 0,\n",
            "  38, 254, 109, 0, 0, 0, 0, 0, 0, 0, 0, 0, 0, 0, 0, 0,\n",
            "  0, 0, 0, 0, 0, 0, 0, 0, 0, 0, 0, 0, 87, 252, 82, 0,\n",
            "  0, 0, 0, 0, 0, 0, 0, 0, 0, 0, 0, 0, 0, 0, 0, 0,\n",
            "  0, 0, 0, 0, 0, 0, 0, 0, 135, 241, 0, 0, 0, 0, 0, 0,\n",
            "  0, 0, 0, 0, 0, 0, 0, 0, 0, 0, 0, 0, 0, 0, 0, 0,\n",
            "  0, 0, 0, 45, 244, 150, 0, 0, 0, 0, 0, 0, 0, 0, 0, 0,\n",
            "  0, 0, 0, 0, 0, 0, 0, 0, 0, 0, 0, 0, 0, 0, 0, 84,\n",
            "  254, 63, 0, 0, 0, 0, 0, 0, 0, 0, 0, 0, 0, 0, 0, 0,\n",
            "  0, 0, 0, 0, 0, 0, 0, 0, 0, 0, 0, 202, 223, 11, 0, 0,\n",
            "  0, 0, 0, 0, 0, 0, 0, 0, 0, 0, 0, 0, 0, 0, 0, 0,\n",
            "  0, 0, 0, 0, 0, 0, 32, 254, 216, 0, 0, 0, 0, 0, 0, 0,\n",
            "  0, 0, 0, 0, 0, 0, 0, 0, 0, 0, 0, 0, 0, 0, 0, 0,\n",
            "  0, 0, 95, 254, 195, 0, 0, 0, 0, 0, 0, 0, 0, 0, 0, 0,\n",
            "  0, 0, 0, 0, 0, 0, 0, 0, 0, 0, 0, 0, 0, 0, 140, 254,\n",
            "  77, 0, 0, 0, 0, 0, 0, 0, 0, 0, 0, 0, 0, 0, 0, 0,\n",
            "  0, 0, 0, 0, 0, 0, 0, 0, 0, 57, 237, 205, 8, 0, 0, 0,\n",
            "  0, 0, 0, 0, 0, 0, 0, 0, 0, 0, 0, 0, 0, 0, 0, 0,\n",
            "  0, 0, 0, 0, 0, 124, 255, 165, 0, 0, 0, 0, 0, 0, 0, 0,\n",
            "  0, 0, 0, 0, 0, 0, 0, 0, 0, 0, 0, 0, 0, 0, 0, 0,\n",
            "  0, 171, 254, 81, 0, 0, 0, 0, 0, 0, 0, 0, 0, 0, 0, 0,\n",
            "  0, 0, 0, 0, 0, 0, 0, 0, 0, 0, 0, 0, 24, 232, 215, 0,\n",
            "  0, 0, 0, 0, 0, 0, 0, 0, 0, 0, 0, 0, 0, 0, 0, 0,\n",
            "  0, 0, 0, 0, 0, 0, 0, 0, 120, 254, 159, 0, 0, 0, 0, 0,\n",
            "  0, 0, 0, 0, 0, 0, 0, 0, 0, 0, 0, 0, 0, 0, 0, 0,\n",
            "  0, 0, 0, 0, 151, 254, 142, 0, 0, 0, 0, 0, 0, 0, 0, 0,\n",
            "  0, 0, 0, 0, 0, 0, 0, 0, 0, 0, 0, 0, 0, 0, 0, 0,\n",
            "  228, 254, 66, 0, 0, 0, 0, 0, 0, 0, 0, 0, 0, 0, 0, 0,\n",
            "  0, 0, 0, 0, 0, 0, 0, 0, 0, 0, 0, 61, 251, 254, 66, 0,\n",
            "  0, 0, 0, 0, 0, 0, 0, 0, 0, 0, 0, 0, 0, 0, 0, 0,\n",
            "  0, 0, 0, 0, 0, 0, 0, 141, 254, 205, 3, 0, 0, 0, 0, 0,\n",
            "  0, 0, 0, 0, 0, 0, 0, 0, 0, 0, 0, 0, 0, 0, 0, 0,\n",
            "  0, 0, 10, 215, 254, 121, 0, 0, 0, 0, 0, 0, 0, 0, 0, 0,\n",
            "  0, 0, 0, 0, 0, 0, 0, 0, 0, 0, 0, 0, 0, 0, 5, 198,\n",
            "  176, 10, 0, 0, 0, 0, 0, 0, 0, 0, 0, 0, 0, 0, 0, 0,\n",
            "  0, 0, 0, 0, 0, 0, 0, 0, 0, 0, 0, 0, 0, 0, 0, 0,\n",
            "  0, 0, 0, 0, 0, 0, 0, 0, 0, 0, 0, 0, 0, 0, 0, 0,\n",
            "  0, 0, 0, 0, 0, 0, 0, 0, 0, 0, 0, 0, 0, 0, 0, 0,\n",
            "  0, 0, 0, 0, 0, 0, 0, 0, 0, 0, 0, 0, 0, 0, 0, 0,\n",
            "  0, 0, 0, 0, 0, 0, 0, 0, 0, 0, 0, 0, 0, 0, 0, 0,\n",
            "  0, 0, 0, 0, 0, 0, 0, 0, 0, 0, 0, 0, 0, 0, 0, 0,\n",
            "  0, 0, 0, 0, 0, 0, 0, 0, 0, 0, 0, 0, 0, 0, 0, 0\n",
            "};\n"
          ]
        }
      ]
    }
  ]
}